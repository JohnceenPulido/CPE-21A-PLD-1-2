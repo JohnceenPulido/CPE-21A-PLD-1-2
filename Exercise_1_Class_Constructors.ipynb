{
  "nbformat": 4,
  "nbformat_minor": 0,
  "metadata": {
    "colab": {
      "provenance": [],
      "authorship_tag": "ABX9TyNhjtbrl7Qp3JWfuuhwc7wI",
      "include_colab_link": true
    },
    "kernelspec": {
      "name": "python3",
      "display_name": "Python 3"
    },
    "language_info": {
      "name": "python"
    }
  },
  "cells": [
    {
      "cell_type": "markdown",
      "metadata": {
        "id": "view-in-github",
        "colab_type": "text"
      },
      "source": [
        "<a href=\"https://colab.research.google.com/github/JohnceenPulido/CPE-21A-PLD-1-2/blob/main/Exercise_1_Class_Constructors.ipynb\" target=\"_parent\"><img src=\"https://colab.research.google.com/assets/colab-badge.svg\" alt=\"Open In Colab\"/></a>"
      ]
    },
    {
      "cell_type": "markdown",
      "source": [
        "##Exercise 1"
      ],
      "metadata": {
        "id": "0WqUl7K-RqHe"
      }
    },
    {
      "cell_type": "code",
      "source": [
        "class Shape():                                       #object and the parent class\n",
        "  def __init__(self, length, width):                   #intialize the object\n",
        "    self.length = length                              # Attributes of shape\n",
        "    self.width = width\n",
        "\n",
        "  def Perimeter(self):\n",
        "    return \"The Perimeter of rectangle is = \", self.length + self.width * (2)     #formula\n",
        "\n",
        "  def Area(self):\n",
        "    return \"The Area of rectangle is = \", self.length * self.width\n",
        "\n",
        "class Rectangle(Shape):                                   #another object but also the child class                \n",
        "  pass\n",
        "\n",
        "shape = Rectangle(39, 29)                                 # given values  \n",
        "print(shape.Perimeter())                                  # to display the result of Perimeter\n",
        "print(shape.Area())                                       # to display the result of Area\n",
        "\n",
        "\n",
        "  \n"
      ],
      "metadata": {
        "colab": {
          "base_uri": "https://localhost:8080/"
        },
        "id": "lNqqqqqDRwiL",
        "outputId": "fbe773cf-73d4-4c2d-a645-51769e02ac7d"
      },
      "execution_count": 18,
      "outputs": [
        {
          "output_type": "stream",
          "name": "stdout",
          "text": [
            "('The Perimeter of rectangle is = ', 97)\n",
            "('The Area of rectangle is = ', 1131)\n"
          ]
        }
      ]
    }
  ]
}