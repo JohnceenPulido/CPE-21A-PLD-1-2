{
  "nbformat": 4,
  "nbformat_minor": 0,
  "metadata": {
    "colab": {
      "provenance": [],
      "authorship_tag": "ABX9TyOy/j+GIyw7iGdfQqP43LvP",
      "include_colab_link": true
    },
    "kernelspec": {
      "name": "python3",
      "display_name": "Python 3"
    },
    "language_info": {
      "name": "python"
    }
  },
  "cells": [
    {
      "cell_type": "markdown",
      "metadata": {
        "id": "view-in-github",
        "colab_type": "text"
      },
      "source": [
        "<a href=\"https://colab.research.google.com/github/JohnceenPulido/CPE-21A-PLD-1-2/blob/main/Conditional_Statement_Examples.ipynb\" target=\"_parent\"><img src=\"https://colab.research.google.com/assets/colab-badge.svg\" alt=\"Open In Colab\"/></a>"
      ]
    },
    {
      "cell_type": "markdown",
      "source": [
        "### Example 1: Write a program that determines  if the input age is qualified to vote or not. The qualifying age is 18 years old and above."
      ],
      "metadata": {
        "id": "iBRS2wiQuRl7"
      }
    },
    {
      "cell_type": "code",
      "source": [
        "x = int(input(\"Age = \"))\n",
        "\n",
        "print(\"QUALIFIED\") if x >= 18 else print(\"NOT QUALIFIED\")\n"
      ],
      "metadata": {
        "id": "cJSnthPuulga"
      },
      "execution_count": null,
      "outputs": []
    },
    {
      "cell_type": "markdown",
      "source": [
        "###Example 2: Write a program that determines if the input number is POSITIVE, NEGATIVE, or ZERO"
      ],
      "metadata": {
        "id": "3yzapxLsvDry"
      }
    },
    {
      "cell_type": "code",
      "source": [
        "n = float(input(\"Number = \"))\n",
        "\n",
        "if n>0:\n",
        "  print(\"The number is POSITIVE\")\n",
        "elif n==0:\n",
        "  print(\"The number is ZERO\")\n",
        "else:\n",
        "  print(\"The number is NEGATIVE\")\n",
        "  \n",
        "   \n",
        "   \n"
      ],
      "metadata": {
        "id": "MIqmn7-zvF3L"
      },
      "execution_count": null,
      "outputs": []
    },
    {
      "cell_type": "markdown",
      "source": [
        "###Example 3: Write a program to determine if the grades are:"
      ],
      "metadata": {
        "id": "mW8gc_sHvGNS"
      }
    },
    {
      "cell_type": "code",
      "source": [
        "grades = float(input(\"GPA = \"))\n",
        "\n",
        "if grades>=75:\n",
        "  print(\"PASSED\")\n",
        "elif grades==74:\n",
        "  print(\"REMEDIAL\")\n",
        "else:\n",
        "  print(\"FAILED\")"
      ],
      "metadata": {
        "id": "g59A_gqdvVlz"
      },
      "execution_count": null,
      "outputs": []
    }
  ]
}