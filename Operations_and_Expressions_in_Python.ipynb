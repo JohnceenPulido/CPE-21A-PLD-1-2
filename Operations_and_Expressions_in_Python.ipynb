{
  "nbformat": 4,
  "nbformat_minor": 0,
  "metadata": {
    "colab": {
      "provenance": [],
      "authorship_tag": "ABX9TyPKGCqvAzJppEOifUeK71Qt",
      "include_colab_link": true
    },
    "kernelspec": {
      "name": "python3",
      "display_name": "Python 3"
    },
    "language_info": {
      "name": "python"
    }
  },
  "cells": [
    {
      "cell_type": "markdown",
      "metadata": {
        "id": "view-in-github",
        "colab_type": "text"
      },
      "source": [
        "<a href=\"https://colab.research.google.com/github/JohnceenPulido/CPE-21A-PLD-1-2/blob/main/Operations_and_Expressions_in_Python.ipynb\" target=\"_parent\"><img src=\"https://colab.research.google.com/assets/colab-badge.svg\" alt=\"Open In Colab\"/></a>"
      ]
    },
    {
      "cell_type": "code",
      "execution_count": null,
      "metadata": {
        "id": "B75qVqcKNfle"
      },
      "outputs": [],
      "source": []
    },
    {
      "cell_type": "markdown",
      "source": [
        "#Boolean Operators"
      ],
      "metadata": {
        "id": "c1XS3kWDOl66"
      }
    },
    {
      "cell_type": "code",
      "source": [
        "a = 234\n",
        "b = 235\n",
        "print(a<b)\n",
        "\n",
        "d = 78\n",
        "e = 79\n",
        "t = print(d==e)\n",
        "t\n",
        "\n",
        "\n",
        "\n",
        "print(7482>2845)\n",
        "print(7482==2845)"
      ],
      "metadata": {
        "id": "Pcy2g0c5OpFZ"
      },
      "execution_count": null,
      "outputs": []
    },
    {
      "cell_type": "code",
      "source": [
        "print(bool(\"Hi\"))\n",
        "print(bool(25))\n",
        "print(bool(False))\n",
        "print(bool(True))\n",
        "print(bool({}))\n",
        "print(bool([]))\n",
        "print(bool(None))\n",
        "print(bool(0))\n",
        "print(bool(\"\"))"
      ],
      "metadata": {
        "id": "iyA4SzV_RPiI"
      },
      "execution_count": null,
      "outputs": []
    },
    {
      "cell_type": "code",
      "source": [
        "def myfunction(): return False\n",
        "print(myfunction())\n"
      ],
      "metadata": {
        "id": "E6DRgi1hfNFA"
      },
      "execution_count": null,
      "outputs": []
    },
    {
      "cell_type": "code",
      "source": [
        "def myfunction(): return True\n",
        "\n",
        "if myfunction():\n",
        "  print(\"Yes\")\n",
        "else:\n",
        "    print(\"No\")"
      ],
      "metadata": {
        "id": "JnBAcba7flD6"
      },
      "execution_count": null,
      "outputs": []
    },
    {
      "cell_type": "code",
      "source": [
        "print(10>9)\n",
        "\n",
        "a = 6\n",
        "b = 7\n",
        "print(a!=b)\n",
        "print(a==b)\n",
        "print(a==6)\n",
        "print(a!=a)"
      ],
      "metadata": {
        "colab": {
          "base_uri": "https://localhost:8080/"
        },
        "id": "d54jMHb8gZNP",
        "outputId": "afa24e17-4b68-425b-c6c6-4ebdd509f687"
      },
      "execution_count": 35,
      "outputs": [
        {
          "output_type": "stream",
          "name": "stdout",
          "text": [
            "True\n",
            "True\n",
            "False\n",
            "True\n",
            "False\n"
          ]
        }
      ]
    },
    {
      "cell_type": "markdown",
      "source": [
        "#Python Operators"
      ],
      "metadata": {
        "id": "JCcYINJ1hSM7"
      }
    },
    {
      "cell_type": "code",
      "source": [
        "print(10+5)\n",
        "print(10-5)\n",
        "print(10*5)\n",
        "print(10/5)\n",
        "print(10%5)\n",
        "print(10//3)\n",
        "print(10**2)"
      ],
      "metadata": {
        "id": "Pxb_GsyDhVmN"
      },
      "execution_count": null,
      "outputs": []
    },
    {
      "cell_type": "markdown",
      "source": [
        "#Bitwise Operators"
      ],
      "metadata": {
        "id": "bUFjFyemUGJp"
      }
    },
    {
      "cell_type": "code",
      "source": [
        "a = 60 #0011 1100\n",
        "b = 13\n",
        "print(a^b)\n",
        "print(-a)\n",
        "print(-b)\n",
        "print(a<<2)\n",
        "print(a>>2) #0000 1111"
      ],
      "metadata": {
        "id": "JwlUhwNqUIqm"
      },
      "execution_count": null,
      "outputs": []
    },
    {
      "cell_type": "markdown",
      "source": [
        "#Assignment Operator"
      ],
      "metadata": {
        "id": "HmiT65xNWhao"
      }
    },
    {
      "cell_type": "code",
      "source": [
        "x = 45\n",
        "x += 46 #Same as x = x + 46\n",
        "print(x)\n",
        "\n",
        "vx = 40\n",
        "vx -= 35\n",
        "print(vx)\n"
      ],
      "metadata": {
        "id": "OQ-BHLniWjjl"
      },
      "execution_count": null,
      "outputs": []
    },
    {
      "cell_type": "markdown",
      "source": [
        "#Logical Operator"
      ],
      "metadata": {
        "id": "sgjp9jcDYJkE"
      }
    },
    {
      "cell_type": "code",
      "source": [
        "k = 3\n",
        "h = 7\n",
        "print(k>h and k==k)\n",
        "print(k<h or h==k)"
      ],
      "metadata": {
        "id": "5-4qTRVPYLV8"
      },
      "execution_count": null,
      "outputs": []
    },
    {
      "cell_type": "markdown",
      "source": [
        "#Identity Operator"
      ],
      "metadata": {
        "id": "cxhng2amaMfm"
      }
    },
    {
      "cell_type": "code",
      "source": [
        "ox = \"I am Happy\"\n",
        "gn = \"I am not happy\"\n",
        "print(ox is gn)\n",
        "ox is not gn"
      ],
      "metadata": {
        "colab": {
          "base_uri": "https://localhost:8080/"
        },
        "id": "SbSCgevfaO69",
        "outputId": "096dfb2d-cabd-4fa2-94bc-cef88c18c106"
      },
      "execution_count": 33,
      "outputs": [
        {
          "output_type": "stream",
          "name": "stdout",
          "text": [
            "False\n"
          ]
        },
        {
          "output_type": "execute_result",
          "data": {
            "text/plain": [
              "True"
            ]
          },
          "metadata": {},
          "execution_count": 33
        }
      ]
    }
  ]
}