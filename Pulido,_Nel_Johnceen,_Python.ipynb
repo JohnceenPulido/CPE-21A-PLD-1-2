{
  "nbformat": 4,
  "nbformat_minor": 0,
  "metadata": {
    "colab": {
      "provenance": [],
      "authorship_tag": "ABX9TyNxoc/yv0MYxsduB/8Q/s7v",
      "include_colab_link": true
    },
    "kernelspec": {
      "name": "python3",
      "display_name": "Python 3"
    },
    "language_info": {
      "name": "python"
    }
  },
  "cells": [
    {
      "cell_type": "markdown",
      "metadata": {
        "id": "view-in-github",
        "colab_type": "text"
      },
      "source": [
        "<a href=\"https://colab.research.google.com/github/JohnceenPulido/CPE-21A-PLD-1-2/blob/main/Pulido%2C_Nel_Johnceen%2C_Python.ipynb\" target=\"_parent\"><img src=\"https://colab.research.google.com/assets/colab-badge.svg\" alt=\"Open In Colab\"/></a>"
      ]
    },
    {
      "cell_type": "markdown",
      "source": [
        "# Indentation"
      ],
      "metadata": {
        "id": "XAiFB40OUDXN"
      }
    },
    {
      "cell_type": "code",
      "source": [
        "if 50 > 45:\n",
        "  print(\"50 is greater than 45!!!\")"
      ],
      "metadata": {
        "id": "V7SfU7uuUiXu",
        "colab": {
          "base_uri": "https://localhost:8080/"
        },
        "outputId": "b08e364e-7b25-4977-afc3-bedc4c4ff4cd"
      },
      "execution_count": 1,
      "outputs": [
        {
          "output_type": "stream",
          "name": "stdout",
          "text": [
            "50 is greater than 45!!!\n"
          ]
        }
      ]
    },
    {
      "cell_type": "markdown",
      "source": [
        "#Python Comments"
      ],
      "metadata": {
        "id": "7E5E8hcF2uc_"
      }
    },
    {
      "cell_type": "code",
      "source": [
        "#This is how you write comments\n",
        "print(\"Hello, World\")"
      ],
      "metadata": {
        "id": "WAjnKPTq2xGg"
      },
      "execution_count": null,
      "outputs": []
    },
    {
      "cell_type": "markdown",
      "source": [
        "#Variable Naming Conventions"
      ],
      "metadata": {
        "id": "yZVNZdU82-sP"
      }
    },
    {
      "cell_type": "code",
      "source": [
        "myVar1 = 1\n",
        "_myVar2 = 2\n",
        "my_Var3 =  3\n",
        "my_Var_no4 = 4"
      ],
      "metadata": {
        "id": "T4QqiSvx3FJf"
      },
      "execution_count": null,
      "outputs": []
    },
    {
      "cell_type": "markdown",
      "source": [
        "#Python Variable"
      ],
      "metadata": {
        "id": "FiC1NIEp3rlg"
      }
    },
    {
      "cell_type": "code",
      "source": [
        "x_y = 12345678\n",
        "q, w, e, r, t, y = 1, 2, 3, 4, 5, 6\n"
      ],
      "metadata": {
        "id": "d_FEtEzs3ueq"
      },
      "execution_count": null,
      "outputs": []
    },
    {
      "cell_type": "markdown",
      "source": [
        "#Casting"
      ],
      "metadata": {
        "id": "yYaQHcP14PBA"
      }
    },
    {
      "cell_type": "code",
      "source": [
        "a = \"Johnceens\"\n",
        "a = int(20)\n",
        "print(a)\n",
        "\n",
        "a = float(25)\n",
        "print(a)"
      ],
      "metadata": {
        "id": "JA1PbVQ54YJB"
      },
      "execution_count": null,
      "outputs": []
    },
    {
      "cell_type": "markdown",
      "source": [
        "#Type()Function"
      ],
      "metadata": {
        "id": "alwpthGL4wSI"
      }
    },
    {
      "cell_type": "code",
      "source": [
        "x = float(10)\n",
        "y = int(56)\n",
        "z = \"Johnceens\"\n",
        "print(type(x))\n",
        "print(type(y))\n",
        "print(type(z))"
      ],
      "metadata": {
        "id": "A8QLXk4w44I4"
      },
      "execution_count": null,
      "outputs": []
    },
    {
      "cell_type": "markdown",
      "source": [
        "#\"Double Quotes\" or 'Single Quotes'\n"
      ],
      "metadata": {
        "id": "70-9ITT75Oxx"
      }
    },
    {
      "cell_type": "code",
      "source": [
        "z = \"Sanicare\"\n",
        "z = 'Sanicare'\n",
        "print(z)"
      ],
      "metadata": {
        "id": "irsoWrDM5Y5I"
      },
      "execution_count": null,
      "outputs": []
    },
    {
      "cell_type": "markdown",
      "source": [
        "#Case Sensitive"
      ],
      "metadata": {
        "id": "4iB9cG525sMQ"
      }
    },
    {
      "cell_type": "code",
      "source": [
        "z = (6)\n",
        "Z = \"Onikuma\"\n",
        "#Z will not overwrite z\n"
      ],
      "metadata": {
        "id": "u4_uLyeh5uqi"
      },
      "execution_count": null,
      "outputs": []
    },
    {
      "cell_type": "markdown",
      "source": [
        "#Multiple variables"
      ],
      "metadata": {
        "id": "7M2nnmCT6Neh"
      }
    },
    {
      "cell_type": "code",
      "source": [
        "q, w, e = \"I\", \"am\", \"happy\"\n",
        "print(q)\n",
        "print(w)\n",
        "print(e)"
      ],
      "metadata": {
        "id": "VP6WzEsR6QgZ"
      },
      "execution_count": null,
      "outputs": []
    },
    {
      "cell_type": "markdown",
      "source": [
        "#One Value to Multiple variables"
      ],
      "metadata": {
        "id": "d_C1NnFb6g0A"
      }
    },
    {
      "cell_type": "code",
      "source": [
        "q = w = e = \"ggwp\"\n",
        "print(q)\n",
        "print(w)\n",
        "print(e)"
      ],
      "metadata": {
        "id": "m3AczD7L6lnh"
      },
      "execution_count": null,
      "outputs": []
    },
    {
      "cell_type": "markdown",
      "source": [
        "#Output Variables"
      ],
      "metadata": {
        "id": "-QDjW9er61Mg"
      }
    },
    {
      "cell_type": "code",
      "source": [
        "q = \"you\"\n",
        "print(\"I am\" + \" \" + q)\n",
        "\n",
        "#another method\n",
        "w = \"Programming is \"\n",
        "e = \"Fascinating\"\n",
        "r = w + e\n",
        "print(r)"
      ],
      "metadata": {
        "id": "1P8V7j9S63_R"
      },
      "execution_count": null,
      "outputs": []
    },
    {
      "cell_type": "markdown",
      "source": [
        "#Arithmetic Operations"
      ],
      "metadata": {
        "id": "pj1F-WdH7b1P"
      }
    },
    {
      "cell_type": "code",
      "source": [
        "q = 5\n",
        "w = 6\n",
        "e = 10\n",
        "r = 50\n",
        "sum = q+w+e+r\n",
        "print(sum)\n",
        "print(q + w)\n",
        "print(e - r)\n",
        "\n"
      ],
      "metadata": {
        "id": "YvDeVnDq8HGJ"
      },
      "execution_count": null,
      "outputs": []
    },
    {
      "cell_type": "markdown",
      "source": [
        "#Assignment Operators"
      ],
      "metadata": {
        "id": "_MAM2q2-8xRj"
      }
    },
    {
      "cell_type": "code",
      "source": [
        "q, w, e = 1, 45, -45\n",
        "w %= 3\n",
        "print(w)"
      ],
      "metadata": {
        "colab": {
          "base_uri": "https://localhost:8080/"
        },
        "id": "ZjckQUNG822T",
        "outputId": "6b271b99-c528-4629-9445-586fc7adb507"
      },
      "execution_count": 31,
      "outputs": [
        {
          "output_type": "stream",
          "name": "stdout",
          "text": [
            "0\n"
          ]
        }
      ]
    },
    {
      "cell_type": "markdown",
      "source": [
        "#Comparison Operators"
      ],
      "metadata": {
        "id": "-b8iQySO90JJ"
      }
    },
    {
      "cell_type": "code",
      "source": [
        "q, w, e = 1, 23, 3\n",
        "q < w and w > e"
      ],
      "metadata": {
        "id": "CeKb6VPe93-4"
      },
      "execution_count": null,
      "outputs": []
    },
    {
      "cell_type": "markdown",
      "source": [
        "#Identity Operators"
      ],
      "metadata": {
        "id": "U0B7_sNq-WP5"
      }
    },
    {
      "cell_type": "code",
      "source": [
        "q, w = 1, 3\n",
        "w is q"
      ],
      "metadata": {
        "id": "paqYOIcn-Zsp"
      },
      "execution_count": null,
      "outputs": []
    },
    {
      "cell_type": "markdown",
      "source": [
        "#Bitwise Operators"
      ],
      "metadata": {
        "id": "7Vh5RZ8z-pzS"
      }
    },
    {
      "cell_type": "code",
      "source": [
        "\n"
      ],
      "metadata": {
        "id": "jOudReIV-tFS"
      },
      "execution_count": null,
      "outputs": []
    }
  ]
}