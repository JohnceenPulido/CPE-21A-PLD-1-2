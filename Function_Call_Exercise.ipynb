{
  "nbformat": 4,
  "nbformat_minor": 0,
  "metadata": {
    "colab": {
      "provenance": [],
      "authorship_tag": "ABX9TyOhbkg0tgzaecFTtF6MGe8L",
      "include_colab_link": true
    },
    "kernelspec": {
      "name": "python3",
      "display_name": "Python 3"
    },
    "language_info": {
      "name": "python"
    }
  },
  "cells": [
    {
      "cell_type": "markdown",
      "metadata": {
        "id": "view-in-github",
        "colab_type": "text"
      },
      "source": [
        "<a href=\"https://colab.research.google.com/github/JohnceenPulido/CPE-21A-PLD-1-2/blob/main/Function_Call_Exercise.ipynb\" target=\"_parent\"><img src=\"https://colab.research.google.com/assets/colab-badge.svg\" alt=\"Open In Colab\"/></a>"
      ]
    },
    {
      "cell_type": "markdown",
      "source": [
        "#Function Calls Exercise"
      ],
      "metadata": {
        "id": "8kkSuHOJ3Agx"
      }
    },
    {
      "cell_type": "code",
      "source": [
        "\n",
        "a = min([2, 3, 4]) #a\n",
        "print(a)\n",
        "\n",
        "b = max(2, -3, 4, 7, -5) #b\n",
        "print(b)\n",
        "\n",
        "c = max(2, -3, min(4, 7), -5) #c\n",
        "print(c)\n",
        "\n",
        "\n",
        "\n"
      ],
      "metadata": {
        "colab": {
          "base_uri": "https://localhost:8080/"
        },
        "id": "uvRzXL_P3Dz8",
        "outputId": "dcfb8f74-c000-4c6f-f845-425ea3d234fa"
      },
      "execution_count": 8,
      "outputs": [
        {
          "output_type": "stream",
          "name": "stdout",
          "text": [
            "2\n",
            "7\n",
            "4\n"
          ]
        }
      ]
    }
  ]
}